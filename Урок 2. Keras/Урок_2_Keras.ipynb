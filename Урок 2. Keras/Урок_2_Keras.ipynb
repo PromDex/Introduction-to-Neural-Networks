{
  "cells": [
    {
      "cell_type": "markdown",
      "source": [
        "Урок 2. Keras\n",
        "\n",
        "1.Обучить, нейронную сеть на Keras на датасете MNIST с другими параметрами.\n",
        "2. Напишите в комментарии к уроку:\n",
        "Какого результата вы добились от нейросети?\n",
        "Что помогло вам улучшить её точность?\n",
        "Поработайте с документацией Keras.\n",
        "3.Попробуйте найти полезные команды Keras, неразобранные на уроке."
      ],
      "metadata": {
        "id": "R3ybewMsw9oH"
      }
    },
    {
      "cell_type": "markdown",
      "source": [
        "ИНСТАЛЛИРУЕМ keras"
      ],
      "metadata": {
        "id": "GHNDJmmCyxYB"
      }
    },
    {
      "cell_type": "code",
      "execution_count": null,
      "metadata": {
        "id": "Mrn7WhDjppOF"
      },
      "outputs": [],
      "source": [
        "pip install keras"
      ]
    },
    {
      "cell_type": "markdown",
      "source": [
        "**ПОДКЛЮЧАЕМ ДАТАСЕТ mnist**"
      ],
      "metadata": {
        "id": "lxs-fpytw8eq"
      }
    },
    {
      "cell_type": "code",
      "execution_count": null,
      "metadata": {
        "colab": {
          "base_uri": "https://localhost:8080/"
        },
        "id": "CK5v01oCYJod",
        "outputId": "141f2126-2fe4-4db5-a8cb-2b23883c2a3a"
      },
      "outputs": [
        {
          "output_type": "stream",
          "name": "stdout",
          "text": [
            "Looking in indexes: https://pypi.org/simple, https://us-python.pkg.dev/colab-wheels/public/simple/\n",
            "Collecting mnist\n",
            "  Downloading mnist-0.2.2-py2.py3-none-any.whl (3.5 kB)\n",
            "Requirement already satisfied: numpy in /usr/local/lib/python3.10/dist-packages (from mnist) (1.22.4)\n",
            "Installing collected packages: mnist\n",
            "Successfully installed mnist-0.2.2\n"
          ]
        }
      ],
      "source": [
        "pip install mnist"
      ]
    },
    {
      "cell_type": "code",
      "execution_count": null,
      "metadata": {
        "id": "BdtNDP-W6TJi"
      },
      "outputs": [],
      "source": [
        "from keras.datasets import fashion_mnist"
      ]
    },
    {
      "cell_type": "markdown",
      "metadata": {
        "id": "Z81QZzWidNo1"
      },
      "source": [
        "**Создаем** **нейросеть** **на Keras**\n",
        "\n",
        "**Обучаем** **нейросеть** **различать** **рукописные** **цифры**"
      ]
    },
    {
      "cell_type": "code",
      "execution_count": null,
      "metadata": {
        "id": "AGaj-oayW29B"
      },
      "outputs": [],
      "source": [
        "# The full neural network code!Полный код нейронной сети\n",
        "###############################\n",
        "import numpy as np\n",
        "import mnist\n",
        "from keras.models import Sequential\n",
        "from keras.layers import Dense\n",
        "from keras.utils import to_categorical\n",
        "# Use scikit-learn to grid search the batch size and epochs Используйте Scikit-learn для поиска сетки по размеру и эпохам партии\n",
        "from sklearn.model_selection import GridSearchCV\n",
        "from keras.wrappers.scikit_learn import KerasClassifier\n",
        "# Function to create model, required for KerasClassifier Функция создания модели, необходимая для KerasClassifier\n",
        "\n",
        "train_images = mnist.train_images()\n",
        "train_labels = mnist.train_labels()\n",
        "test_images = mnist.test_images()\n",
        "test_labels = mnist.test_labels()\n",
        "\n",
        "# Normalize the images.\n",
        "train_images = (train_images / 255) - 0.5\n",
        "test_images = (test_images / 255) - 0.5\n",
        "\n",
        "# Flatten the images.\n",
        "train_images = train_images.reshape((-1, 784))\n",
        "test_images = test_images.reshape((-1, 784))"
      ]
    },
    {
      "cell_type": "code",
      "execution_count": null,
      "metadata": {
        "id": "TyAghDELZOVL"
      },
      "outputs": [],
      "source": [
        "# Build the model.\n",
        "def create_model(optimizer='adam'):\n",
        "    model = Sequential([\n",
        "      Dense(32, activation='relu', input_shape=(784,)),\n",
        "      Dense(10, activation='softmax'),\n",
        "      Dense(10),\n",
        "    ])\n",
        "\n",
        "    # Compile the model.\n",
        "    model.compile(\n",
        "      optimizer=optimizer,\n",
        "      loss='categorical_crossentropy',\n",
        "      metrics=['accuracy'],\n",
        "    )\n",
        "    return model"
      ]
    },
    {
      "cell_type": "code",
      "execution_count": null,
      "metadata": {
        "colab": {
          "base_uri": "https://localhost:8080/"
        },
        "id": "FQOY8_8mb_ZI",
        "outputId": "ccfda927-bd45-422f-9339-54f7b9075486"
      },
      "outputs": [
        {
          "name": "stdout",
          "output_type": "stream",
          "text": [
            "Epoch 1/5\n",
            "1875/1875 [==============================] - 10s 3ms/step - loss: 0.4461 - accuracy: 0.8691\n",
            "Epoch 2/5\n",
            "1875/1875 [==============================] - 6s 3ms/step - loss: 0.2770 - accuracy: 0.9189\n",
            "Epoch 3/5\n",
            "1875/1875 [==============================] - 5s 3ms/step - loss: 0.2271 - accuracy: 0.9336\n",
            "Epoch 4/5\n",
            "1875/1875 [==============================] - 5s 3ms/step - loss: 0.1952 - accuracy: 0.9427\n",
            "Epoch 5/5\n",
            "1875/1875 [==============================] - 6s 3ms/step - loss: 0.1764 - accuracy: 0.9485\n",
            "313/313 [==============================] - 1s 2ms/step - loss: 0.1559 - accuracy: 0.9527\n",
            "1/1 [==============================] - 0s 66ms/step\n",
            "[7 2 1 0 4]\n",
            "[7 2 1 0 4]\n"
          ]
        }
      ],
      "source": [
        "model = create_model()\n",
        "\n",
        "# Train the model.\n",
        "model.fit(\n",
        "  train_images,\n",
        "  to_categorical(train_labels),\n",
        "  epochs=5,\n",
        "  batch_size=32,\n",
        ")\n",
        "\n",
        "# Evaluate the model.\n",
        "model.evaluate(\n",
        "  test_images,\n",
        "  to_categorical(test_labels)\n",
        ")\n",
        "\n",
        "# Save the model to disk.\n",
        "model.save_weights('model.h5')\n",
        "\n",
        "# Load the model from disk later using:\n",
        "# model.load_weights('model.h5')\n",
        "\n",
        "# Predict on the first 5 test images.\n",
        "predictions = model.predict(test_images[:5])\n",
        "\n",
        "# Print our model's predictions.\n",
        "print(np.argmax(predictions, axis=1)) # [7, 2, 1, 0, 4]\n",
        "\n",
        "# Check our predictions against the ground truths.\n",
        "print(test_labels[:5]) # [7, 2, 1, 0, 4]"
      ]
    },
    {
      "cell_type": "markdown",
      "metadata": {
        "id": "62P5K6ztlHJA"
      },
      "source": [
        "Поиск по сетке из библиотеки машинного обучения Python Scikit-Learn для настройки гиперпараметров моделей глубокого обучения Keras."
      ]
    },
    {
      "cell_type": "code",
      "execution_count": null,
      "metadata": {
        "id": "nrtdUsU6XxAz"
      },
      "outputs": [],
      "source": [
        "batch_size = [30]\n",
        "epochs = [10, 20, 30]\n",
        "optimizer = ['SGD', 'RMSprop', 'Adam']"
      ]
    },
    {
      "cell_type": "code",
      "execution_count": null,
      "metadata": {
        "colab": {
          "base_uri": "https://localhost:8080/"
        },
        "id": "1bcjL95iY88e",
        "outputId": "465d5f30-3355-4370-c6cb-d5af7730af71"
      },
      "outputs": [
        {
          "name": "stderr",
          "output_type": "stream",
          "text": [
            "<ipython-input-8-c6acfe14bd15>:1: DeprecationWarning: KerasClassifier is deprecated, use Sci-Keras (https://github.com/adriangb/scikeras) instead. See https://www.adriangb.com/scikeras/stable/migration.html for help migrating.\n",
            "  model = KerasClassifier(build_fn=create_model)\n"
          ]
        },
        {
          "name": "stdout",
          "output_type": "stream",
          "text": [
            "Epoch 1/30\n",
            "2000/2000 [==============================] - 6s 2ms/step - loss: 0.4449 - accuracy: 0.8694\n",
            "Epoch 2/30\n",
            "2000/2000 [==============================] - 6s 3ms/step - loss: 0.2631 - accuracy: 0.9224\n",
            "Epoch 3/30\n",
            "2000/2000 [==============================] - 5s 3ms/step - loss: 0.2198 - accuracy: 0.9362\n",
            "Epoch 4/30\n",
            "2000/2000 [==============================] - 6s 3ms/step - loss: 0.1927 - accuracy: 0.9442\n",
            "Epoch 5/30\n",
            "2000/2000 [==============================] - 5s 3ms/step - loss: 0.1746 - accuracy: 0.9490\n",
            "Epoch 6/30\n",
            "2000/2000 [==============================] - 6s 3ms/step - loss: 0.1628 - accuracy: 0.9525\n",
            "Epoch 7/30\n",
            "2000/2000 [==============================] - 5s 2ms/step - loss: 0.1538 - accuracy: 0.9550\n",
            "Epoch 8/30\n",
            "2000/2000 [==============================] - 5s 3ms/step - loss: 0.1479 - accuracy: 0.9557\n",
            "Epoch 9/30\n",
            "2000/2000 [==============================] - 5s 3ms/step - loss: 0.1436 - accuracy: 0.9578\n",
            "Epoch 10/30\n",
            "2000/2000 [==============================] - 5s 3ms/step - loss: 0.1382 - accuracy: 0.9590\n",
            "Epoch 11/30\n",
            "2000/2000 [==============================] - 5s 3ms/step - loss: 0.1348 - accuracy: 0.9599\n",
            "Epoch 12/30\n",
            "2000/2000 [==============================] - 5s 2ms/step - loss: 0.1311 - accuracy: 0.9607\n",
            "Epoch 13/30\n",
            "2000/2000 [==============================] - 6s 3ms/step - loss: 0.1289 - accuracy: 0.9627\n",
            "Epoch 14/30\n",
            "2000/2000 [==============================] - 5s 3ms/step - loss: 0.1265 - accuracy: 0.9629\n",
            "Epoch 15/30\n",
            "2000/2000 [==============================] - 6s 3ms/step - loss: 0.1231 - accuracy: 0.9635\n",
            "Epoch 16/30\n",
            "2000/2000 [==============================] - 5s 3ms/step - loss: 0.1224 - accuracy: 0.9639\n",
            "Epoch 17/30\n",
            "2000/2000 [==============================] - 5s 3ms/step - loss: 0.1199 - accuracy: 0.9645\n",
            "Epoch 18/30\n",
            "2000/2000 [==============================] - 5s 3ms/step - loss: 0.1178 - accuracy: 0.9663\n",
            "Epoch 19/30\n",
            "2000/2000 [==============================] - 5s 3ms/step - loss: 0.1161 - accuracy: 0.9667\n",
            "Epoch 20/30\n",
            "2000/2000 [==============================] - 6s 3ms/step - loss: 0.1137 - accuracy: 0.9663\n",
            "Epoch 21/30\n",
            "2000/2000 [==============================] - 5s 3ms/step - loss: 0.1140 - accuracy: 0.9669\n",
            "Epoch 22/30\n",
            "2000/2000 [==============================] - 6s 3ms/step - loss: 0.1127 - accuracy: 0.9671\n",
            "Epoch 23/30\n",
            "2000/2000 [==============================] - 5s 2ms/step - loss: 0.1115 - accuracy: 0.9673\n",
            "Epoch 24/30\n",
            "2000/2000 [==============================] - 6s 3ms/step - loss: 0.1088 - accuracy: 0.9678\n",
            "Epoch 25/30\n",
            "2000/2000 [==============================] - 5s 3ms/step - loss: 0.1084 - accuracy: 0.9688\n",
            "Epoch 26/30\n",
            "2000/2000 [==============================] - 5s 3ms/step - loss: 0.1072 - accuracy: 0.9683\n",
            "Epoch 27/30\n",
            "2000/2000 [==============================] - 6s 3ms/step - loss: 0.1057 - accuracy: 0.9699\n",
            "Epoch 28/30\n",
            "2000/2000 [==============================] - 5s 3ms/step - loss: 0.1029 - accuracy: 0.9703\n",
            "Epoch 29/30\n",
            "2000/2000 [==============================] - 6s 3ms/step - loss: 0.1030 - accuracy: 0.9699\n",
            "Epoch 30/30\n",
            "2000/2000 [==============================] - 5s 3ms/step - loss: 0.1022 - accuracy: 0.9703\n",
            "Best: 0.953750 using {'batch_size': 30, 'epochs': 30, 'optimizer': 'RMSprop'}\n",
            "0.928400 (0.004631) with: {'batch_size': 30, 'epochs': 10, 'optimizer': 'SGD'}\n",
            "0.950250 (0.003979) with: {'batch_size': 30, 'epochs': 10, 'optimizer': 'RMSprop'}\n",
            "0.949150 (0.007141) with: {'batch_size': 30, 'epochs': 10, 'optimizer': 'Adam'}\n",
            "0.945967 (0.005351) with: {'batch_size': 30, 'epochs': 20, 'optimizer': 'SGD'}\n",
            "0.951767 (0.005576) with: {'batch_size': 30, 'epochs': 20, 'optimizer': 'RMSprop'}\n",
            "0.949650 (0.005322) with: {'batch_size': 30, 'epochs': 20, 'optimizer': 'Adam'}\n",
            "0.950633 (0.002108) with: {'batch_size': 30, 'epochs': 30, 'optimizer': 'SGD'}\n",
            "0.953750 (0.002282) with: {'batch_size': 30, 'epochs': 30, 'optimizer': 'RMSprop'}\n",
            "0.952067 (0.005768) with: {'batch_size': 30, 'epochs': 30, 'optimizer': 'Adam'}\n"
          ]
        }
      ],
      "source": [
        "model = KerasClassifier(build_fn=create_model)\n",
        "param_grid = dict(batch_size=batch_size, epochs=epochs, optimizer=optimizer)\n",
        "grid = GridSearchCV(estimator=model, param_grid=param_grid, n_jobs=-1)\n",
        "grid_result = grid.fit(train_images, train_labels)\n",
        "# summarize results\n",
        "print(\"Best: %f using %s\" % (grid_result.best_score_, grid_result.best_params_))\n",
        "means = grid_result.cv_results_['mean_test_score']\n",
        "stds = grid_result.cv_results_['std_test_score']\n",
        "params = grid_result.cv_results_['params']\n",
        "for mean, stdev, param in zip(means, stds, params):\n",
        "    print(\"%f (%f) with: %r\" % (mean, stdev, param))"
      ]
    },
    {
      "cell_type": "code",
      "execution_count": null,
      "metadata": {
        "id": "rtimDJfc4JZt"
      },
      "outputs": [],
      "source": []
    },
    {
      "cell_type": "code",
      "execution_count": null,
      "metadata": {
        "id": "tujA6sIF37t5"
      },
      "outputs": [],
      "source": []
    }
  ],
  "metadata": {
    "accelerator": "GPU",
    "colab": {
      "provenance": []
    },
    "gpuClass": "standard",
    "kernelspec": {
      "display_name": "Python 3",
      "language": "python",
      "name": "python3"
    },
    "language_info": {
      "codemirror_mode": {
        "name": "ipython",
        "version": 3
      },
      "file_extension": ".py",
      "mimetype": "text/x-python",
      "name": "python",
      "nbconvert_exporter": "python",
      "pygments_lexer": "ipython3",
      "version": "3.7.7"
    }
  },
  "nbformat": 4,
  "nbformat_minor": 0
}