{
 "cells": [
  {
   "cell_type": "markdown",
   "id": "45787ba9-c65f-4298-881e-b32fa01ae8c6",
   "metadata": {},
   "source": [
    "## Домашнее задание <a class='anchor' id='hw'>\n",
    "\n",
    "Используем набор примеров fashion-MNIST\n",
    "1. Опишите - какой результат нейросети получен в зависимости от:\n",
    "  - числа нейронов в слое (для 2-х слойной сети),\n",
    "  - числа слоев (2, 3, 5, 10) при близких размерах сети (близкое число тренируемых параметров).\n",
    "  - фиксируйте для тренировочного и тестового набора метрики accuracy.\n",
    "2.  Проверьте работу разных оптимизаторов (SGD, Adam, RMSProp) для одной из моделей п.1. Фиксируйте для тренировочного и тестового набора метрики accuracy.\n",
    "\n",
    "3. Сделайте вывод - что помогло вам улучшить качество классификации в нейросети на тестовом наборе?\n",
    "\n",
    "4. Для одного варианта сети сформируйте матрицу ошибок по классам. Оцените качество модели по каждому классу отдельно (полнота, точность)."
   ]
  },
  {
   "cell_type": "code",
   "execution_count": 3,
   "id": "d9eb7e36-4c06-4b01-91ce-b1a9e044cc6c",
   "metadata": {
    "tags": []
   },
   "outputs": [],
   "source": [
    "#conda install -c anaconda tensorflow"
   ]
  },
  {
   "cell_type": "code",
   "execution_count": 4,
   "id": "936eb5ad-6311-4892-976e-6d3bb774db86",
   "metadata": {
    "tags": []
   },
   "outputs": [
    {
     "name": "stdout",
     "output_type": "stream",
     "text": [
      "Downloading data from https://storage.googleapis.com/tensorflow/tf-keras-datasets/train-labels-idx1-ubyte.gz\n",
      "29515/29515 [==============================] - 0s 3us/step\n",
      "Downloading data from https://storage.googleapis.com/tensorflow/tf-keras-datasets/train-images-idx3-ubyte.gz\n",
      "26421880/26421880 [==============================] - 4s 0us/step\n",
      "Downloading data from https://storage.googleapis.com/tensorflow/tf-keras-datasets/t10k-labels-idx1-ubyte.gz\n",
      "5148/5148 [==============================] - 0s 0s/step\n",
      "Downloading data from https://storage.googleapis.com/tensorflow/tf-keras-datasets/t10k-images-idx3-ubyte.gz\n",
      "4422102/4422102 [==============================] - 1s 0us/step\n"
     ]
    },
    {
     "ename": "AttributeError",
     "evalue": "'Sequential' object has no attribute 'predict_classes'",
     "output_type": "error",
     "traceback": [
      "\u001b[1;31m---------------------------------------------------------------------------\u001b[0m",
      "\u001b[1;31mAttributeError\u001b[0m                            Traceback (most recent call last)",
      "Cell \u001b[1;32mIn[4], line 34\u001b[0m\n\u001b[0;32m     32\u001b[0m model \u001b[38;5;241m=\u001b[39m create_model(num_neurons, num_layers)\n\u001b[0;32m     33\u001b[0m model\u001b[38;5;241m.\u001b[39mfit(X_train, y_train, epochs\u001b[38;5;241m=\u001b[39m\u001b[38;5;241m10\u001b[39m, batch_size\u001b[38;5;241m=\u001b[39m\u001b[38;5;241m128\u001b[39m, verbose\u001b[38;5;241m=\u001b[39m\u001b[38;5;241m0\u001b[39m)\n\u001b[1;32m---> 34\u001b[0m train_predictions \u001b[38;5;241m=\u001b[39m \u001b[43mmodel\u001b[49m\u001b[38;5;241;43m.\u001b[39;49m\u001b[43mpredict_classes\u001b[49m(X_train)\n\u001b[0;32m     35\u001b[0m train_accuracy \u001b[38;5;241m=\u001b[39m accuracy_score(np\u001b[38;5;241m.\u001b[39margmax(y_train, axis\u001b[38;5;241m=\u001b[39m\u001b[38;5;241m1\u001b[39m), train_predictions)\n\u001b[0;32m     36\u001b[0m test_predictions \u001b[38;5;241m=\u001b[39m model\u001b[38;5;241m.\u001b[39mpredict_classes(X_test)\n",
      "\u001b[1;31mAttributeError\u001b[0m: 'Sequential' object has no attribute 'predict_classes'"
     ]
    }
   ],
   "source": [
    "import numpy as np\n",
    "from tensorflow import keras\n",
    "from tensorflow.keras.datasets import fashion_mnist\n",
    "from sklearn.metrics import accuracy_score\n",
    "\n",
    "# Загрузка набора данных Fashion-MNIST\n",
    "(X_train, y_train), (X_test, y_test) = fashion_mnist.load_data()\n",
    "\n",
    "# Предобработка данных\n",
    "X_train = X_train.reshape(-1, 784) / 255.0\n",
    "X_test = X_test.reshape(-1, 784) / 255.0\n",
    "y_train = keras.utils.to_categorical(y_train)\n",
    "y_test = keras.utils.to_categorical(y_test)\n",
    "\n",
    "# Определение функции для создания модели и вычисления accuracy\n",
    "def create_model(num_neurons, num_layers):\n",
    "    model = keras.models.Sequential()\n",
    "    model.add(keras.layers.Dense(num_neurons, activation='relu', input_shape=(784,)))\n",
    "    for _ in range(num_layers - 1):\n",
    "        model.add(keras.layers.Dense(num_neurons, activation='relu'))\n",
    "    model.add(keras.layers.Dense(10, activation='softmax'))\n",
    "    model.compile(optimizer='adam', loss='categorical_crossentropy', metrics=['accuracy'])\n",
    "    return model\n",
    "\n",
    "# Задание разных значения числа нейронов в слое и числа слоев\n",
    "num_neurons_list = [100, 200, 300]\n",
    "num_layers_list = [2, 3, 5]\n",
    "\n",
    "# Обучение и оценка моделей с разными значениями числа нейронов и числа слоев\n",
    "for num_neurons in num_neurons_list:\n",
    "    for num_layers in num_layers_list:\n",
    "        model = create_model(num_neurons, num_layers)\n",
    "        model.fit(X_train, y_train, epochs=10, batch_size=128, verbose=0)\n",
    "        train_predictions = model.predict_classes(X_train) # устарело\n",
    "        train_accuracy = accuracy_score(np.argmax(y_train, axis=1), train_predictions)\n",
    "        test_predictions = model.predict_classes(X_test)\n",
    "        test_accuracy = accuracy_score(np.argmax(y_test, axis=1), test_predictions)\n",
    "        print(f\"Num Neurons: {num_neurons}, Num Layers: {num_layers}\")\n",
    "        print(f\"Train Accuracy: {train_accuracy:.4f}, Test Accuracy: {test_accuracy:.4f}\")\n",
    "        print()\n"
   ]
  },
  {
   "cell_type": "markdown",
   "id": "1909382f-6d42-44fd-ad8f-e8c565090635",
   "metadata": {},
   "source": [
    "Ошибка, указывает на то, что объект модели Sequential не имеет атрибута predict_classes.\n",
    "Это связано с тем, что метод predict_classes устарел в последних версиях TensorFlow.\n",
    "\n",
    "Вместо этого можно использовать метод предсказания, чтобы получить предсказанные вероятности класса,\n",
    "а затем использовать np.argmax для получения предсказанных меток классов."
   ]
  },
  {
   "cell_type": "code",
   "execution_count": 8,
   "id": "b10dfb68-503c-4ccc-9d1d-ee5da7d600ae",
   "metadata": {
    "tags": []
   },
   "outputs": [
    {
     "name": "stdout",
     "output_type": "stream",
     "text": [
      "1875/1875 [==============================] - 3s 1ms/step\n",
      "313/313 [==============================] - 1s 1ms/step\n",
      "Num Neurons: 100, Num Layers: 2\n",
      "Train Accuracy: 0.9175, Test Accuracy: 0.8859\n",
      "\n",
      "1875/1875 [==============================] - 3s 2ms/step\n",
      "313/313 [==============================] - 1s 2ms/step\n",
      "Num Neurons: 100, Num Layers: 3\n",
      "Train Accuracy: 0.9178, Test Accuracy: 0.8842\n",
      "\n",
      "1875/1875 [==============================] - 4s 2ms/step\n",
      "313/313 [==============================] - 1s 2ms/step\n",
      "Num Neurons: 100, Num Layers: 5\n",
      "Train Accuracy: 0.9092, Test Accuracy: 0.8764\n",
      "\n",
      "1875/1875 [==============================] - 3s 2ms/step\n",
      "313/313 [==============================] - 0s 1ms/step\n",
      "Num Neurons: 200, Num Layers: 2\n",
      "Train Accuracy: 0.9153, Test Accuracy: 0.8822\n",
      "\n",
      "1875/1875 [==============================] - 3s 2ms/step\n",
      "313/313 [==============================] - 1s 2ms/step\n",
      "Num Neurons: 200, Num Layers: 3\n",
      "Train Accuracy: 0.9222, Test Accuracy: 0.8857\n",
      "\n",
      "1875/1875 [==============================] - 4s 2ms/step\n",
      "313/313 [==============================] - 1s 2ms/step\n",
      "Num Neurons: 200, Num Layers: 5\n",
      "Train Accuracy: 0.9175, Test Accuracy: 0.8822\n",
      "\n",
      "1875/1875 [==============================] - 3s 2ms/step\n",
      "313/313 [==============================] - 1s 2ms/step\n",
      "Num Neurons: 300, Num Layers: 2\n",
      "Train Accuracy: 0.9213, Test Accuracy: 0.8847\n",
      "\n",
      "1875/1875 [==============================] - 3s 2ms/step\n",
      "313/313 [==============================] - 1s 2ms/step\n",
      "Num Neurons: 300, Num Layers: 3\n",
      "Train Accuracy: 0.9206, Test Accuracy: 0.8839\n",
      "\n",
      "1875/1875 [==============================] - 4s 2ms/step\n",
      "313/313 [==============================] - 1s 2ms/step\n",
      "Num Neurons: 300, Num Layers: 5\n",
      "Train Accuracy: 0.9177, Test Accuracy: 0.8856\n",
      "\n"
     ]
    }
   ],
   "source": [
    "import numpy as np\n",
    "from tensorflow import keras\n",
    "from tensorflow.keras.datasets import fashion_mnist\n",
    "from sklearn.metrics import accuracy_score\n",
    "\n",
    "# Загрузка набора данных Fashion-MNIST\n",
    "(X_train, y_train), (X_test, y_test) = fashion_mnist.load_data()\n",
    "\n",
    "# Предобработка данных\n",
    "X_train = X_train.reshape(-1, 784) / 255.0\n",
    "X_test = X_test.reshape(-1, 784) / 255.0\n",
    "y_train = keras.utils.to_categorical(y_train)\n",
    "y_test = keras.utils.to_categorical(y_test)\n",
    "\n",
    "# Определение функции для создания модели и вычисления accuracy\n",
    "def create_model(num_neurons, num_layers):\n",
    "    model = keras.models.Sequential()\n",
    "    model.add(keras.layers.Dense(num_neurons, activation='relu', input_shape=(784,)))\n",
    "    for _ in range(num_layers - 1):\n",
    "        model.add(keras.layers.Dense(num_neurons, activation='relu'))\n",
    "    model.add(keras.layers.Dense(10, activation='softmax'))\n",
    "    model.compile(optimizer='adam', loss='categorical_crossentropy', metrics=['accuracy'])\n",
    "    return model\n",
    "\n",
    "# Задание разных значения числа нейронов в слое и числа слоев\n",
    "num_neurons_list = [100, 200, 300]\n",
    "num_layers_list = [2, 3, 5]\n",
    "\n",
    "# Обучение и оценка моделей с разными значениями числа нейронов и числа слоев\n",
    "for num_neurons in num_neurons_list:\n",
    "    for num_layers in num_layers_list:\n",
    "        model = create_model(num_neurons, num_layers)\n",
    "        model.fit(X_train, y_train, epochs=10, batch_size=128, verbose=0)\n",
    "        train_predictions = np.argmax(model.predict(X_train), axis=1) # по новому так\n",
    "        train_accuracy = accuracy_score(np.argmax(y_train, axis=1), train_predictions)\n",
    "        test_predictions = np.argmax(model.predict(X_test), axis=1)\n",
    "        test_accuracy = accuracy_score(np.argmax(y_test, axis=1), test_predictions)\n",
    "        print(f\"Num Neurons: {num_neurons}, Num Layers: {num_layers}\")\n",
    "        print(f\"Train Accuracy: {train_accuracy:.4f}, Test Accuracy: {test_accuracy:.4f}\")\n",
    "        print()\n"
   ]
  },
  {
   "cell_type": "markdown",
   "id": "8cbfc7e3-dfe3-43b4-a6cf-e97078ba095b",
   "metadata": {},
   "source": [
    "# Домашнее задание <a class='anchor' id='hw'>\n",
    "\n",
    "Используем набор примеров fashion-MNIST\n",
    "1. Опишите - какой результат нейросети получен в зависимости от:\n",
    "  - числа нейронов в слое (для 2-х слойной сети),\n"
   ]
  },
  {
   "cell_type": "code",
   "execution_count": 9,
   "id": "6a392d08-a643-4b11-abdf-f3744f35bc38",
   "metadata": {
    "tags": []
   },
   "outputs": [
    {
     "name": "stdout",
     "output_type": "stream",
     "text": [
      "1875/1875 [==============================] - 3s 1ms/step\n",
      "313/313 [==============================] - 0s 1ms/step\n",
      "Num Neurons: 100\n",
      "Train Accuracy: 0.9161, Test Accuracy: 0.8846\n",
      "\n",
      "1875/1875 [==============================] - 3s 1ms/step\n",
      "313/313 [==============================] - 0s 1ms/step\n",
      "Num Neurons: 200\n",
      "Train Accuracy: 0.9220, Test Accuracy: 0.8875\n",
      "\n",
      "1875/1875 [==============================] - 3s 2ms/step\n",
      "313/313 [==============================] - 1s 1ms/step\n",
      "Num Neurons: 300\n",
      "Train Accuracy: 0.9207, Test Accuracy: 0.8864\n",
      "\n"
     ]
    },
    {
     "data": {
      "image/png": "[encoded data removed]",
      "text/plain": [
       "<Figure size 640x480 with 1 Axes>"
      ]
     },
     "metadata": {},
     "output_type": "display_data"
    }
   ],
   "source": [
    "# Задание разных значений числа нейронов в слое для 2-х слойной сети\n",
    "num_neurons_list = [100, 200, 300]\n",
    "num_layers = 2\n",
    "\n",
    "# Обучение и оценка моделей с разными значениями числа нейронов в слое\n",
    "train_accuracies = []\n",
    "test_accuracies = []\n",
    "\n",
    "for num_neurons in num_neurons_list:\n",
    "    model = create_model(num_neurons, num_layers)\n",
    "    model.fit(X_train, y_train, epochs=10, batch_size=128, verbose=0)\n",
    "    train_predictions = np.argmax(model.predict(X_train), axis=1)\n",
    "    train_accuracy = accuracy_score(np.argmax(y_train, axis=1), train_predictions)\n",
    "    test_predictions = np.argmax(model.predict(X_test), axis=1)\n",
    "    test_accuracy = accuracy_score(np.argmax(y_test, axis=1), test_predictions)\n",
    "    train_accuracies.append(train_accuracy)\n",
    "    test_accuracies.append(test_accuracy)\n",
    "    print(f\"Num Neurons: {num_neurons}\")\n",
    "    print(f\"Train Accuracy: {train_accuracy:.4f}, Test Accuracy: {test_accuracy:.4f}\")\n",
    "    print()\n",
    "\n",
    "# Вывод графика для числа нейронов в слое\n",
    "plt.plot(num_neurons_list, train_accuracies, label='Train Accuracy')\n",
    "plt.plot(num_neurons_list, test_accuracies, label='Test Accuracy')\n",
    "plt.xlabel('Number of Neurons')\n",
    "plt.ylabel('Accuracy')\n",
    "plt.legend()\n",
    "plt.show()"
   ]
  },
  {
   "cell_type": "markdown",
   "id": "ec4f8271-d9d5-41a8-8d5b-189efe8d327e",
   "metadata": {},
   "source": [
    "Наблюдаемые тенденции:\n",
    "При малом количестве нейронов (100), модель может быть недостаточно мощной для изучения сложных зависимостей в данных, что может привести к низкой производительности как на тренировочном, так и на тестовом наборе данных.\n",
    "При увеличении числа нейронов (200 и 300), модель становится способной выучивать более сложные зависимости в данных, что может привести к улучшению производительности на тренировочном наборе данных.\n",
    "Но при дальнейшем увеличении числа нейронов, модель может начать переобучаться и производительность на тестовом наборе данных может начать снижаться."
   ]
  },
  {
   "cell_type": "markdown",
   "id": "7e62e6d5-a2d9-4985-b138-ddd1ae332516",
   "metadata": {},
   "source": [
    "- числа слоев (2, 3, 5, 10) при близких размерах сети (близкое число тренируемых параметров)."
   ]
  },
  {
   "cell_type": "code",
   "execution_count": 10,
   "id": "b86eca83-f0c5-4370-8f69-c252eb084350",
   "metadata": {
    "tags": []
   },
   "outputs": [
    {
     "name": "stdout",
     "output_type": "stream",
     "text": [
      "1875/1875 [==============================] - 3s 1ms/step\n",
      "313/313 [==============================] - 0s 1ms/step\n",
      "Num Layers: 2\n",
      "Train Accuracy: 0.9180, Test Accuracy: 0.8831\n",
      "\n",
      "1875/1875 [==============================] - 3s 1ms/step\n",
      "313/313 [==============================] - 1s 2ms/step\n",
      "Num Layers: 3\n",
      "Train Accuracy: 0.9161, Test Accuracy: 0.8780\n",
      "\n",
      "1875/1875 [==============================] - 3s 2ms/step\n",
      "313/313 [==============================] - 1s 2ms/step\n",
      "Num Layers: 5\n",
      "Train Accuracy: 0.9161, Test Accuracy: 0.8849\n",
      "\n",
      "1875/1875 [==============================] - 4s 2ms/step\n",
      "313/313 [==============================] - 1s 2ms/step\n",
      "Num Layers: 10\n",
      "Train Accuracy: 0.8962, Test Accuracy: 0.8650\n",
      "\n"
     ]
    },
    {
     "data": {
      "image/png": "[encoded data removed]",
      "text/plain": [
       "<Figure size 640x480 with 1 Axes>"
      ]
     },
     "metadata": {},
     "output_type": "display_data"
    }
   ],
   "source": [
    "# Задание разного числа слоев при близких размерах сети\n",
    "num_neurons = 200\n",
    "num_layers_list = [2, 3, 5, 10]\n",
    "\n",
    "# Обучение и оценка моделей с разными значениями числа слоев\n",
    "train_accuracies = []\n",
    "test_accuracies = []\n",
    "\n",
    "for num_layers in num_layers_list:\n",
    "    model = create_model(num_neurons, num_layers)\n",
    "    model.fit(X_train, y_train, epochs=10, batch_size=128, verbose=0)\n",
    "    train_predictions = np.argmax(model.predict(X_train), axis=1)\n",
    "    train_accuracy = accuracy_score(np.argmax(y_train, axis=1), train_predictions)\n",
    "    test_predictions = np.argmax(model.predict(X_test), axis=1)\n",
    "    test_accuracy = accuracy_score(np.argmax(y_test, axis=1), test_predictions)\n",
    "    train_accuracies.append(train_accuracy)\n",
    "    test_accuracies.append(test_accuracy)\n",
    "    print(f\"Num Layers: {num_layers}\")\n",
    "    print(f\"Train Accuracy: {train_accuracy:.4f}, Test Accuracy: {test_accuracy:.4f}\")\n",
    "    print()\n",
    "\n",
    "# Вывод графика для числа слоев\n",
    "plt.plot(num_layers_list, train_accuracies, label='Train Accuracy')\n",
    "plt.plot(num_layers_list, test_accuracies, label='Test Accuracy')\n",
    "plt.xlabel('Number of Layers')\n",
    "plt.ylabel('Accuracy')\n",
    "plt.legend()\n",
    "plt.show()"
   ]
  },
  {
   "cell_type": "markdown",
   "id": "4c12e5b4-2b13-434d-99d2-46729768827e",
   "metadata": {},
   "source": [
    "Наблюдаемые тенденции:\n",
    "\n",
    "При небольшом числе слоев (2 и 3), модель может иметь достаточно гибкую структуру для изучения сложных зависимостей в данных, что может привести к хорошей производительности как на тренировочном, так и на тестовом наборе данных.\n",
    "При увеличении числа слоев (5 и 10), модель может быть способна выучить еще более сложные зависимости в данных, но при этом становится более подвержена проблемам градиентного затухания или взрыва градиента. Это может приводить к некоторому снижению производительности на тестовом наборе данных.\n",
    "В данном случае, мы видим, что модели с 2 и 3 слоями показывают схожую производительность, превосходящую модели с 5 и 10 слоями."
   ]
  },
  {
   "cell_type": "markdown",
   "id": "a35f1c52-31ac-4869-ab98-d65762734164",
   "metadata": {
    "tags": []
   },
   "source": [
    "#### 2.  Проверьте работу разных оптимизаторов (SGD, Adam, RMSProp) для одной из моделей п.1.  \n",
    "Фиксируйте для тренировочного и тестового набора метрики accuracy."
   ]
  },
  {
   "cell_type": "code",
   "execution_count": 13,
   "id": "65da1b55-acc6-49ad-a280-1745e696d9f1",
   "metadata": {
    "tags": []
   },
   "outputs": [
    {
     "name": "stdout",
     "output_type": "stream",
     "text": [
      "1875/1875 [==============================] - 3s 2ms/step\n",
      "313/313 [==============================] - 1s 2ms/step\n",
      "Optimizer: sgd\n",
      "Train Accuracy: 0.8451, Test Accuracy: 0.8323\n",
      "\n",
      "1875/1875 [==============================] - 3s 2ms/step\n",
      "313/313 [==============================] - 1s 2ms/step\n",
      "Optimizer: adam\n",
      "Train Accuracy: 0.9211, Test Accuracy: 0.8893\n",
      "\n",
      "1875/1875 [==============================] - 3s 2ms/step\n",
      "313/313 [==============================] - 1s 2ms/step\n",
      "Optimizer: rmsprop\n",
      "Train Accuracy: 0.9032, Test Accuracy: 0.8727\n",
      "\n"
     ]
    }
   ],
   "source": [
    "# Загрузка набора данных Fashion-MNIST\n",
    "(X_train, y_train), (X_test, y_test) = fashion_mnist.load_data()\n",
    "\n",
    "# Предобработка данных\n",
    "X_train = X_train.reshape(-1, 784) / 255.0\n",
    "X_test = X_test.reshape(-1, 784) / 255.0\n",
    "y_train = keras.utils.to_categorical(y_train)\n",
    "y_test = keras.utils.to_categorical(y_test)\n",
    "\n",
    "# Определение функции для создания модели и вычисления accuracy\n",
    "def create_model(num_neurons, num_layers, optimizer):\n",
    "    model = keras.models.Sequential()\n",
    "    model.add(keras.layers.Dense(num_neurons, activation='relu', input_shape=(784,)))\n",
    "    for _ in range(num_layers - 1):\n",
    "        model.add(keras.layers.Dense(num_neurons, activation='relu'))\n",
    "    model.add(keras.layers.Dense(10, activation='softmax'))\n",
    "    model.compile(optimizer=optimizer, loss='categorical_crossentropy', metrics=['accuracy'])\n",
    "    return model\n",
    "\n",
    "# Задание разных оптимизаторов\n",
    "optimizers = ['sgd', 'adam', 'rmsprop']\n",
    "\n",
    "# Обучение и оценка моделей с разными оптимизаторами\n",
    "for optimizer in optimizers:\n",
    "    model = create_model(num_neurons=200, num_layers=5, optimizer=optimizer)\n",
    "    model.fit(X_train, y_train, epochs=10, batch_size=128, verbose=0)\n",
    "    train_predictions = np.argmax(model.predict(X_train), axis=1)\n",
    "    train_accuracy = accuracy_score(np.argmax(y_train, axis=1), train_predictions)\n",
    "    test_predictions = np.argmax(model.predict(X_test), axis=1)\n",
    "    test_accuracy = accuracy_score(np.argmax(y_test, axis=1), test_predictions)\n",
    "    print(f\"Optimizer: {optimizer}\")\n",
    "    print(f\"Train Accuracy: {train_accuracy:.4f}, Test Accuracy: {test_accuracy:.4f}\")\n",
    "    print()"
   ]
  },
  {
   "cell_type": "markdown",
   "id": "f4a2655a-df36-4e1c-a1da-280b92b234ef",
   "metadata": {},
   "source": [
    "На основе результатов, выводы:\n",
    "\n",
    "Optimizer: adam\n",
    "Train Accuracy: 0.9211, Test Accuracy: 0.8893\n",
    "Оптимизатор Adam показывает наилучшие результаты на тренировочном, и на тестовом наборе данных. Он достигает высокой точности в классификации моделей на обоих наборах данных.\n",
    "\n",
    "Optimizer: rmsprop\n",
    "Train Accuracy: 0.9032, Test Accuracy: 0.8727\n",
    "Оптимизатор RMSProp немного ниже, чем у Adam, на тренировочном, и на тестовом наборе данных.\n",
    "\n",
    "Optimizer: sgd\n",
    "Train Accuracy: 0.8451, Test Accuracy: 0.8323\n",
    "Оптимизатор SGD показывает более низкую точность по сравнению с Adam и RMSProp на обоих наборах данных.\n",
    "\n",
    "Оптимизаторы Adam и RMSProp лучше подходят для данной модели и задачи классификации Fashion-MNIST"
   ]
  },
  {
   "cell_type": "markdown",
   "id": "9c8a7a70-b135-42ba-b58e-747e6f54d263",
   "metadata": {},
   "source": [
    "### Задание 3. Сделайте вывод - что помогло вам улучшить качество классификации в нейросети на тестовом наборе?"
   ]
  },
  {
   "cell_type": "code",
   "execution_count": 17,
   "id": "33dc0364-a883-4f34-b433-d0de74e53398",
   "metadata": {
    "tags": []
   },
   "outputs": [
    {
     "name": "stdout",
     "output_type": "stream",
     "text": [
      "1875/1875 [==============================] - 3s 2ms/step\n",
      "313/313 [==============================] - 1s 2ms/step\n",
      "Optimizer: adam\n",
      "Train Accuracy: 0.9188, Test Accuracy: 0.8850\n",
      "\n"
     ]
    }
   ],
   "source": [
    "# Загрузка набора данных Fashion-MNIST\n",
    "(X_train, y_train), (X_test, y_test) = fashion_mnist.load_data()\n",
    "\n",
    "# Предобработка данных\n",
    "X_train = X_train.reshape(-1, 784) / 255.0\n",
    "X_test = X_test.reshape(-1, 784) / 255.0\n",
    "y_train = keras.utils.to_categorical(y_train)\n",
    "y_test = keras.utils.to_categorical(y_test)\n",
    "\n",
    "# Определение функции для создания модели и вычисления accuracy\n",
    "def create_model(num_neurons, num_layers, optimizer):\n",
    "    model = keras.models.Sequential()\n",
    "    model.add(keras.layers.Dense(num_neurons, activation='relu', input_shape=(784,)))\n",
    "    for _ in range(num_layers - 1):\n",
    "        model.add(keras.layers.Dense(num_neurons, activation='relu'))\n",
    "    model.add(keras.layers.Dense(10, activation='softmax'))\n",
    "    model.compile(optimizer=optimizer, loss='categorical_crossentropy', metrics=['accuracy'])\n",
    "    return model\n",
    "# Обучение и оценка модели с оптимизатором 'adam'\n",
    "optimizer='adam'\n",
    "model = create_model(num_neurons=200, num_layers=5, optimizer=optimizer)\n",
    "model.fit(X_train, y_train, epochs=10, batch_size=128, verbose=0)\n",
    "train_predictions = np.argmax(model.predict(X_train), axis=1)\n",
    "train_accuracy = accuracy_score(np.argmax(y_train, axis=1), train_predictions)\n",
    "test_predictions = np.argmax(model.predict(X_test), axis=1)\n",
    "test_accuracy = accuracy_score(np.argmax(y_test, axis=1), test_predictions)\n",
    "print(f\"Optimizer: {optimizer}\")\n",
    "print(f\"Train Accuracy: {train_accuracy:.4f}, Test Accuracy: {test_accuracy:.4f}\")\n",
    "print()"
   ]
  },
  {
   "cell_type": "code",
   "execution_count": 18,
   "id": "e905a512-928f-4234-96bb-3fa6a64ca6d5",
   "metadata": {
    "tags": []
   },
   "outputs": [
    {
     "data": {
      "text/plain": [
       "{'name': 'Adam',\n",
       " 'learning_rate': 0.001,\n",
       " 'decay': 0.0,\n",
       " 'beta_1': 0.9,\n",
       " 'beta_2': 0.999,\n",
       " 'epsilon': 1e-07,\n",
       " 'amsgrad': False}"
      ]
     },
     "execution_count": 18,
     "metadata": {},
     "output_type": "execute_result"
    }
   ],
   "source": [
    "model.optimizer.get_config()"
   ]
  },
  {
   "cell_type": "markdown",
   "id": "b6433201-b4a5-4ee3-8501-e444aba42132",
   "metadata": {},
   "source": [
    "Увеличение числа нейронов и слоев:\n",
    "Увеличение количества нейронов в слое или добавление дополнительных слоев может улучшить качество классификации. Это позволяет модели изучать более сложные зависимости и выделять более высокоуровневые признаки.\n",
    "\n",
    "Использование оптимизатора Adam:\n",
    "Выбор оптимального оптимизатора для обучения модели может существенно повлиять на ее качество классификации. В данном случае оптимизатор Adam показал лучшие результаты по сравнению с SGD и RMSProp. Adam обладает адаптивным скоростью обучения и обновлением весов, что способствует более эффективной сходимости модели и повышает ее точность.\n",
    "\n",
    "Предобработка данных:\n",
    "В данном случае данные были предварительно нормализованы, приведены к диапазону от 0 до 1. Правильная предобработка данных может существенно влиять на процесс обучения и результаты классификации. Нормализация данных помогает стабилизировать обучение модели и улучшить ее способность обобщать на новые данные.\n",
    "\n",
    "Тренировка на достаточном количестве эпох:\n",
    "Увеличение числа эпох обучения может помочь улучшить качество классификации на тестовом наборе данных. Более продолжительное обучение позволяет модели лучше адаптироваться к тренировочным данным и выявить более сложные зависимости."
   ]
  },
  {
   "cell_type": "markdown",
   "id": "5da45d80-2a91-4266-9d31-fd55a4976361",
   "metadata": {},
   "source": [
    "### Задание 4. Для одного варианта сети сформируйте матрицу ошибок по классам. Оцените качество модели по каждому классу отдельно (полнота, точность)."
   ]
  },
  {
   "cell_type": "code",
   "execution_count": 27,
   "id": "9c4df9f6-151a-4e11-88cc-6fb7d74c50a3",
   "metadata": {
    "tags": []
   },
   "outputs": [
    {
     "name": "stdout",
     "output_type": "stream",
     "text": [
      "313/313 [==============================] - 1s 1ms/step\n"
     ]
    },
    {
     "data": {
      "image/png": "[encoded data removed]",
      "text/plain": [
       "<Figure size 1000x800 with 2 Axes>"
      ]
     },
     "metadata": {},
     "output_type": "display_data"
    },
    {
     "name": "stdout",
     "output_type": "stream",
     "text": [
      "   Class  Precision  Recall\n",
      "0      0   0.859738   0.852\n",
      "1      1   0.990863   0.976\n",
      "2      2   0.809771   0.779\n",
      "3      3   0.900602   0.897\n",
      "4      4   0.786051   0.834\n",
      "5      5   0.988433   0.940\n",
      "6      6   0.727455   0.726\n",
      "7      7   0.906827   0.983\n",
      "8      8   0.971173   0.977\n",
      "9      9   0.961698   0.929\n"
     ]
    }
   ],
   "source": [
    "from sklearn.metrics import confusion_matrix, precision_score, recall_score\n",
    "import matplotlib.pyplot as plt\n",
    "import itertools\n",
    "import numpy as np\n",
    "\n",
    "# Загрузка набора данных Fashion-MNIST\n",
    "(X_train, y_train), (X_test, y_test) = fashion_mnist.load_data()\n",
    "\n",
    "# Предобработка данных\n",
    "X_train = X_train.reshape(-1, 784) / 255.0\n",
    "X_test = X_test.reshape(-1, 784) / 255.0\n",
    "y_train = keras.utils.to_categorical(y_train)\n",
    "y_test = keras.utils.to_categorical(y_test)\n",
    "\n",
    "# Создание и обучение модели\n",
    "model = create_model(num_neurons=200, num_layers=2, optimizer='adam')\n",
    "model.fit(X_train, y_train, epochs=10, batch_size=128, verbose=0)\n",
    "\n",
    "# Получение предсказаний модели на тестовом наборе данных\n",
    "y_pred = np.argmax(model.predict(X_test), axis=1)\n",
    "y_true = np.argmax(y_test, axis=1)\n",
    "\n",
    "# Формирование матрицы ошибок\n",
    "confusion_mat = confusion_matrix(y_true, y_pred)\n",
    "\n",
    "# Функция для отображения матрицы ошибок в виде графика\n",
    "def plot_confusion_matrix(cm, classes, normalize=False, title='Confusion matrix', cmap=plt.cm.Blues):\n",
    "    if normalize:\n",
    "        cm = cm.astype('float') / cm.sum(axis=1)[:, np.newaxis]\n",
    "\n",
    "    plt.imshow(cm, interpolation='nearest', cmap=cmap)\n",
    "    plt.title(title)\n",
    "    plt.colorbar()\n",
    "\n",
    "    tick_marks = np.arange(len(classes))\n",
    "    plt.xticks(tick_marks, classes)\n",
    "    plt.yticks(tick_marks, classes)\n",
    "\n",
    "    fmt = '.2f' if normalize else 'd'\n",
    "    thresh = cm.max() / 2.\n",
    "\n",
    "    for i, j in itertools.product(range(cm.shape[0]), range(cm.shape[1])):\n",
    "        plt.text(j, i, format(cm[i, j], fmt), horizontalalignment=\"center\", color=\"white\" if cm[i, j] > thresh else \"black\")\n",
    "\n",
    "    plt.ylabel('True label')\n",
    "    plt.xlabel('Predicted label')\n",
    "\n",
    "# Вывод матрицы ошибок в виде графика\n",
    "plt.figure(figsize=(10, 8))\n",
    "plot_confusion_matrix(confusion_mat, classes=['0', '1', '2', '3', '4', '5', '6', '7', '8', '9'],\n",
    "                      title='Confusion matrix', normalize=False)\n",
    "plt.show()\n",
    "\n",
    "# Вычисление полноты и точности для каждого класса\n",
    "precision = precision_score(y_true, y_pred, average=None)\n",
    "recall = recall_score(y_true, y_pred, average=None)\n",
    "\n",
    "# Создание таблицы с результатами\n",
    "import pandas as pd\n",
    "\n",
    "results = pd.DataFrame({'Class': range(10), 'Precision': precision, 'Recall': recall})\n",
    "print(results)\n"
   ]
  },
  {
   "cell_type": "code",
   "execution_count": 28,
   "id": "cda5428a-8e29-4331-8aa0-7a4547363b50",
   "metadata": {
    "tags": []
   },
   "outputs": [
    {
     "name": "stdout",
     "output_type": "stream",
     "text": [
      "Model: \"sequential_38\"\n",
      "_________________________________________________________________\n",
      " Layer (type)                Output Shape              Param #   \n",
      "=================================================================\n",
      " dense_167 (Dense)           (None, 200)               157000    \n",
      "                                                                 \n",
      " dense_168 (Dense)           (None, 200)               40200     \n",
      "                                                                 \n",
      " dense_169 (Dense)           (None, 10)                2010      \n",
      "                                                                 \n",
      "=================================================================\n",
      "Total params: 199,210\n",
      "Trainable params: 199,210\n",
      "Non-trainable params: 0\n",
      "_________________________________________________________________\n"
     ]
    }
   ],
   "source": [
    "# Выводит сводку модели, включая информацию о форме входных и выходных данных, количество параметров и архитектуру слоев.\n",
    "model.summary()"
   ]
  },
  {
   "cell_type": "markdown",
   "id": "4030a1b1-4ce1-4d90-9e39-23d16c8eb1a5",
   "metadata": {},
   "source": [
    "##### Поработайте с документацией Keras. Попробуйте найти полезные команды Keras, неразобранные на уроке."
   ]
  },
  {
   "cell_type": "markdown",
   "id": "4d95578d-b306-4b06-8b95-b2786023dd44",
   "metadata": {},
   "source": [
    "model.summary(): Выводит сводку модели, включая информацию о форме входных и выходных данных, количество параметров и архитектуру слоев.\n",
    "\n",
    "model.get_layer(layer_name): Возвращает слой модели по его имени.\n",
    "\n",
    "model.layers: Возвращает список всех слоев модели.\n",
    "\n",
    "model.get_weights(): Возвращает список всех весов модели.\n",
    "\n",
    "model.set_weights(weights): Устанавливает веса модели из списка weights.\n",
    "\n",
    "model.save(filepath): Сохраняет модель в файл.\n",
    "\n",
    "keras.models.load_model(filepath): Загружает модель из файла.\n",
    "\n",
    "model.fit_generator(generator, steps_per_epoch, epochs): Обучает модель на данных, полученных из генератора данных. Может быть полезно, если данные слишком большие, чтобы загрузить их все в память сразу.\n",
    "\n",
    "model.evaluate(x, y): Оценивает производительность модели на тестовых данных и возвращает значение заданной метрики (например, точность).\n",
    "\n",
    "model.predict(x): Прогнозирует выходные значения модели для заданных входных данных.\n",
    "\n",
    "model.compile(loss, optimizer, metrics): Компилирует модель с заданными функцией потерь, оптимизатором и метриками.\n",
    "\n",
    "keras.utils.to_categorical(y, num_classes): Преобразует вектор целочисленных меток в бинарную матрицу классов.\n",
    "\n",
    "keras.preprocessing.image.ImageDataGenerator: Генератор данных для аугментации изображений и применения других трансформаций.\n",
    "\n",
    "keras.callbacks.ModelCheckpoint(filepath, monitor='val_loss', save_best_only=True): Callback-функция, которая сохраняет лучшую модель во время обучения на основе заданного мониторингового показателя (например, минимальной потери на проверочных данных)."
   ]
  }
 ],
 "metadata": {
  "kernelspec": {
   "display_name": "Python 3 (ipykernel)",
   "language": "python",
   "name": "python3"
  },
  "language_info": {
   "codemirror_mode": {
    "name": "ipython",
    "version": 3
   },
   "file_extension": ".py",
   "mimetype": "text/x-python",
   "name": "python",
   "nbconvert_exporter": "python",
   "pygments_lexer": "ipython3",
   "version": "3.10.12"
  }
 },
 "nbformat": 4,
 "nbformat_minor": 5
}
